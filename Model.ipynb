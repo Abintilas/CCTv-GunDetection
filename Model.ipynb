{
  "nbformat": 4,
  "nbformat_minor": 0,
  "metadata": {
    "colab": {
      "provenance": [],
      "gpuType": "V100",
      "authorship_tag": "ABX9TyO98K/PyqT3Yfy9Bpo5e/GD",
      "include_colab_link": true
    },
    "kernelspec": {
      "name": "python3",
      "display_name": "Python 3"
    },
    "language_info": {
      "name": "python"
    },
    "accelerator": "GPU"
  },
  "cells": [
    {
      "cell_type": "markdown",
      "metadata": {
        "id": "view-in-github",
        "colab_type": "text"
      },
      "source": [
        "<a href=\"https://colab.research.google.com/github/Abintilas/CCTv-GunDetection/blob/main/Model.ipynb\" target=\"_parent\"><img src=\"https://colab.research.google.com/assets/colab-badge.svg\" alt=\"Open In Colab\"/></a>"
      ]
    },
    {
      "cell_type": "code",
      "execution_count": 2,
      "metadata": {
        "colab": {
          "base_uri": "https://localhost:8080/"
        },
        "id": "o0g4wmqUQ-RN",
        "outputId": "81b69328-9fa5-47e9-d2ab-983976a0aed3"
      },
      "outputs": [
        {
          "output_type": "stream",
          "name": "stdout",
          "text": [
            "Mounted at /content/drive\n"
          ]
        }
      ],
      "source": [
        "from google.colab import drive\n",
        "drive.mount(\"/content/drive\")"
      ]
    },
    {
      "cell_type": "code",
      "source": [
        "%cd /content/drive/MyDrive/weaponsdata/"
      ],
      "metadata": {
        "colab": {
          "base_uri": "https://localhost:8080/"
        },
        "id": "l8SDpw2aQ__2",
        "outputId": "206e6957-c86d-4b1a-cf07-b80c32c94d54"
      },
      "execution_count": 3,
      "outputs": [
        {
          "output_type": "stream",
          "name": "stdout",
          "text": [
            "/content/drive/MyDrive/weaponsdata\n"
          ]
        }
      ]
    },
    {
      "cell_type": "code",
      "source": [
        "%pip install ultralytics"
      ],
      "metadata": {
        "colab": {
          "base_uri": "https://localhost:8080/"
        },
        "id": "azNY1E5kRAEA",
        "outputId": "52b14358-60b2-4aa6-d247-9f82453b79a5"
      },
      "execution_count": 4,
      "outputs": [
        {
          "output_type": "stream",
          "name": "stdout",
          "text": [
            "Collecting ultralytics\n",
            "  Downloading ultralytics-8.1.9-py3-none-any.whl (709 kB)\n",
            "\u001b[?25l     \u001b[90m━━━━━━━━━━━━━━━━━━━━━━━━━━━━━━━━━━━━━━━━\u001b[0m \u001b[32m0.0/709.3 kB\u001b[0m \u001b[31m?\u001b[0m eta \u001b[36m-:--:--\u001b[0m\r\u001b[2K     \u001b[91m━━━━━━━━━━━━\u001b[0m\u001b[91m╸\u001b[0m\u001b[90m━━━━━━━━━━━━━━━━━━━━━━━━━━━\u001b[0m \u001b[32m225.3/709.3 kB\u001b[0m \u001b[31m6.7 MB/s\u001b[0m eta \u001b[36m0:00:01\u001b[0m\r\u001b[2K     \u001b[91m━━━━━━━━━━━━━━━━━━━━━━━━━━━━━━━━━━━━━━━\u001b[0m\u001b[91m╸\u001b[0m \u001b[32m706.6/709.3 kB\u001b[0m \u001b[31m11.4 MB/s\u001b[0m eta \u001b[36m0:00:01\u001b[0m\r\u001b[2K     \u001b[90m━━━━━━━━━━━━━━━━━━━━━━━━━━━━━━━━━━━━━━━━\u001b[0m \u001b[32m709.3/709.3 kB\u001b[0m \u001b[31m9.8 MB/s\u001b[0m eta \u001b[36m0:00:00\u001b[0m\n",
            "\u001b[?25hRequirement already satisfied: matplotlib>=3.3.0 in /usr/local/lib/python3.10/dist-packages (from ultralytics) (3.7.1)\n",
            "Requirement already satisfied: numpy>=1.22.2 in /usr/local/lib/python3.10/dist-packages (from ultralytics) (1.23.5)\n",
            "Requirement already satisfied: opencv-python>=4.6.0 in /usr/local/lib/python3.10/dist-packages (from ultralytics) (4.8.0.76)\n",
            "Requirement already satisfied: pillow>=7.1.2 in /usr/local/lib/python3.10/dist-packages (from ultralytics) (9.4.0)\n",
            "Requirement already satisfied: pyyaml>=5.3.1 in /usr/local/lib/python3.10/dist-packages (from ultralytics) (6.0.1)\n",
            "Requirement already satisfied: requests>=2.23.0 in /usr/local/lib/python3.10/dist-packages (from ultralytics) (2.31.0)\n",
            "Requirement already satisfied: scipy>=1.4.1 in /usr/local/lib/python3.10/dist-packages (from ultralytics) (1.11.4)\n",
            "Requirement already satisfied: torch>=1.8.0 in /usr/local/lib/python3.10/dist-packages (from ultralytics) (2.1.0+cu121)\n",
            "Requirement already satisfied: torchvision>=0.9.0 in /usr/local/lib/python3.10/dist-packages (from ultralytics) (0.16.0+cu121)\n",
            "Requirement already satisfied: tqdm>=4.64.0 in /usr/local/lib/python3.10/dist-packages (from ultralytics) (4.66.1)\n",
            "Requirement already satisfied: psutil in /usr/local/lib/python3.10/dist-packages (from ultralytics) (5.9.5)\n",
            "Requirement already satisfied: py-cpuinfo in /usr/local/lib/python3.10/dist-packages (from ultralytics) (9.0.0)\n",
            "Collecting thop>=0.1.1 (from ultralytics)\n",
            "  Downloading thop-0.1.1.post2209072238-py3-none-any.whl (15 kB)\n",
            "Requirement already satisfied: pandas>=1.1.4 in /usr/local/lib/python3.10/dist-packages (from ultralytics) (1.5.3)\n",
            "Requirement already satisfied: seaborn>=0.11.0 in /usr/local/lib/python3.10/dist-packages (from ultralytics) (0.13.1)\n",
            "Requirement already satisfied: contourpy>=1.0.1 in /usr/local/lib/python3.10/dist-packages (from matplotlib>=3.3.0->ultralytics) (1.2.0)\n",
            "Requirement already satisfied: cycler>=0.10 in /usr/local/lib/python3.10/dist-packages (from matplotlib>=3.3.0->ultralytics) (0.12.1)\n",
            "Requirement already satisfied: fonttools>=4.22.0 in /usr/local/lib/python3.10/dist-packages (from matplotlib>=3.3.0->ultralytics) (4.47.2)\n",
            "Requirement already satisfied: kiwisolver>=1.0.1 in /usr/local/lib/python3.10/dist-packages (from matplotlib>=3.3.0->ultralytics) (1.4.5)\n",
            "Requirement already satisfied: packaging>=20.0 in /usr/local/lib/python3.10/dist-packages (from matplotlib>=3.3.0->ultralytics) (23.2)\n",
            "Requirement already satisfied: pyparsing>=2.3.1 in /usr/local/lib/python3.10/dist-packages (from matplotlib>=3.3.0->ultralytics) (3.1.1)\n",
            "Requirement already satisfied: python-dateutil>=2.7 in /usr/local/lib/python3.10/dist-packages (from matplotlib>=3.3.0->ultralytics) (2.8.2)\n",
            "Requirement already satisfied: pytz>=2020.1 in /usr/local/lib/python3.10/dist-packages (from pandas>=1.1.4->ultralytics) (2023.4)\n",
            "Requirement already satisfied: charset-normalizer<4,>=2 in /usr/local/lib/python3.10/dist-packages (from requests>=2.23.0->ultralytics) (3.3.2)\n",
            "Requirement already satisfied: idna<4,>=2.5 in /usr/local/lib/python3.10/dist-packages (from requests>=2.23.0->ultralytics) (3.6)\n",
            "Requirement already satisfied: urllib3<3,>=1.21.1 in /usr/local/lib/python3.10/dist-packages (from requests>=2.23.0->ultralytics) (2.0.7)\n",
            "Requirement already satisfied: certifi>=2017.4.17 in /usr/local/lib/python3.10/dist-packages (from requests>=2.23.0->ultralytics) (2024.2.2)\n",
            "Requirement already satisfied: filelock in /usr/local/lib/python3.10/dist-packages (from torch>=1.8.0->ultralytics) (3.13.1)\n",
            "Requirement already satisfied: typing-extensions in /usr/local/lib/python3.10/dist-packages (from torch>=1.8.0->ultralytics) (4.9.0)\n",
            "Requirement already satisfied: sympy in /usr/local/lib/python3.10/dist-packages (from torch>=1.8.0->ultralytics) (1.12)\n",
            "Requirement already satisfied: networkx in /usr/local/lib/python3.10/dist-packages (from torch>=1.8.0->ultralytics) (3.2.1)\n",
            "Requirement already satisfied: jinja2 in /usr/local/lib/python3.10/dist-packages (from torch>=1.8.0->ultralytics) (3.1.3)\n",
            "Requirement already satisfied: fsspec in /usr/local/lib/python3.10/dist-packages (from torch>=1.8.0->ultralytics) (2023.6.0)\n",
            "Requirement already satisfied: triton==2.1.0 in /usr/local/lib/python3.10/dist-packages (from torch>=1.8.0->ultralytics) (2.1.0)\n",
            "Requirement already satisfied: six>=1.5 in /usr/local/lib/python3.10/dist-packages (from python-dateutil>=2.7->matplotlib>=3.3.0->ultralytics) (1.16.0)\n",
            "Requirement already satisfied: MarkupSafe>=2.0 in /usr/local/lib/python3.10/dist-packages (from jinja2->torch>=1.8.0->ultralytics) (2.1.5)\n",
            "Requirement already satisfied: mpmath>=0.19 in /usr/local/lib/python3.10/dist-packages (from sympy->torch>=1.8.0->ultralytics) (1.3.0)\n",
            "Installing collected packages: thop, ultralytics\n",
            "Successfully installed thop-0.1.1.post2209072238 ultralytics-8.1.9\n"
          ]
        }
      ]
    },
    {
      "cell_type": "code",
      "source": [
        "from ultralytics import YOLO\n",
        "model = YOLO(\"yolov8n.pt\")"
      ],
      "metadata": {
        "id": "ORlyQzW8RAH4"
      },
      "execution_count": 5,
      "outputs": []
    },
    {
      "cell_type": "code",
      "source": [
        "#!python detect.py --weights yolov8s.pt --img 640 --source datasets/images\n",
        "!yolo detect train data='/content/drive/MyDrive/weaponsdata/data.yaml' model='yolov8n.pt' epochs=1 imgsz=640 save=true"
      ],
      "metadata": {
        "colab": {
          "base_uri": "https://localhost:8080/"
        },
        "id": "yFl0dzqhRALi",
        "outputId": "d97faa86-d983-4839-c332-6133921f7344"
      },
      "execution_count": 8,
      "outputs": [
        {
          "output_type": "stream",
          "name": "stdout",
          "text": [
            "New https://pypi.org/project/ultralytics/8.1.10 available 😃 Update with 'pip install -U ultralytics'\n",
            "Ultralytics YOLOv8.1.9 🚀 Python-3.10.12 torch-2.1.0+cu121 CUDA:0 (Tesla V100-SXM2-16GB, 16151MiB)\n",
            "\u001b[34m\u001b[1mengine/trainer: \u001b[0mtask=detect, mode=train, model=yolov8n.pt, data=/content/drive/MyDrive/weaponsdata/data.yaml, epochs=1, time=None, patience=50, batch=16, imgsz=640, save=True, save_period=-1, cache=False, device=None, workers=8, project=None, name=train10, exist_ok=False, pretrained=True, optimizer=auto, verbose=True, seed=0, deterministic=True, single_cls=False, rect=False, cos_lr=False, close_mosaic=10, resume=False, amp=True, fraction=1.0, profile=False, freeze=None, multi_scale=False, overlap_mask=True, mask_ratio=4, dropout=0.0, val=True, split=val, save_json=False, save_hybrid=False, conf=None, iou=0.7, max_det=300, half=False, dnn=False, plots=True, source=None, vid_stride=1, stream_buffer=False, visualize=False, augment=False, agnostic_nms=False, classes=None, retina_masks=False, embed=None, show=False, save_frames=False, save_txt=False, save_conf=False, save_crop=False, show_labels=True, show_conf=True, show_boxes=True, line_width=None, format=torchscript, keras=False, optimize=False, int8=False, dynamic=False, simplify=False, opset=None, workspace=4, nms=False, lr0=0.01, lrf=0.01, momentum=0.937, weight_decay=0.0005, warmup_epochs=3.0, warmup_momentum=0.8, warmup_bias_lr=0.1, box=7.5, cls=0.5, dfl=1.5, pose=12.0, kobj=1.0, label_smoothing=0.0, nbs=64, hsv_h=0.015, hsv_s=0.7, hsv_v=0.4, degrees=0.0, translate=0.1, scale=0.5, shear=0.0, perspective=0.0, flipud=0.0, fliplr=0.5, mosaic=1.0, mixup=0.0, copy_paste=0.0, auto_augment=randaugment, erasing=0.4, crop_fraction=1.0, cfg=None, tracker=botsort.yaml, save_dir=runs/detect/train10\n",
            "2024-02-07 03:47:57.709373: E external/local_xla/xla/stream_executor/cuda/cuda_dnn.cc:9261] Unable to register cuDNN factory: Attempting to register factory for plugin cuDNN when one has already been registered\n",
            "2024-02-07 03:47:57.709435: E external/local_xla/xla/stream_executor/cuda/cuda_fft.cc:607] Unable to register cuFFT factory: Attempting to register factory for plugin cuFFT when one has already been registered\n",
            "2024-02-07 03:47:57.710918: E external/local_xla/xla/stream_executor/cuda/cuda_blas.cc:1515] Unable to register cuBLAS factory: Attempting to register factory for plugin cuBLAS when one has already been registered\n",
            "Overriding model.yaml nc=80 with nc=2\n",
            "\n",
            "                   from  n    params  module                                       arguments                     \n",
            "  0                  -1  1       464  ultralytics.nn.modules.conv.Conv             [3, 16, 3, 2]                 \n",
            "  1                  -1  1      4672  ultralytics.nn.modules.conv.Conv             [16, 32, 3, 2]                \n",
            "  2                  -1  1      7360  ultralytics.nn.modules.block.C2f             [32, 32, 1, True]             \n",
            "  3                  -1  1     18560  ultralytics.nn.modules.conv.Conv             [32, 64, 3, 2]                \n",
            "  4                  -1  2     49664  ultralytics.nn.modules.block.C2f             [64, 64, 2, True]             \n",
            "  5                  -1  1     73984  ultralytics.nn.modules.conv.Conv             [64, 128, 3, 2]               \n",
            "  6                  -1  2    197632  ultralytics.nn.modules.block.C2f             [128, 128, 2, True]           \n",
            "  7                  -1  1    295424  ultralytics.nn.modules.conv.Conv             [128, 256, 3, 2]              \n",
            "  8                  -1  1    460288  ultralytics.nn.modules.block.C2f             [256, 256, 1, True]           \n",
            "  9                  -1  1    164608  ultralytics.nn.modules.block.SPPF            [256, 256, 5]                 \n",
            " 10                  -1  1         0  torch.nn.modules.upsampling.Upsample         [None, 2, 'nearest']          \n",
            " 11             [-1, 6]  1         0  ultralytics.nn.modules.conv.Concat           [1]                           \n",
            " 12                  -1  1    148224  ultralytics.nn.modules.block.C2f             [384, 128, 1]                 \n",
            " 13                  -1  1         0  torch.nn.modules.upsampling.Upsample         [None, 2, 'nearest']          \n",
            " 14             [-1, 4]  1         0  ultralytics.nn.modules.conv.Concat           [1]                           \n",
            " 15                  -1  1     37248  ultralytics.nn.modules.block.C2f             [192, 64, 1]                  \n",
            " 16                  -1  1     36992  ultralytics.nn.modules.conv.Conv             [64, 64, 3, 2]                \n",
            " 17            [-1, 12]  1         0  ultralytics.nn.modules.conv.Concat           [1]                           \n",
            " 18                  -1  1    123648  ultralytics.nn.modules.block.C2f             [192, 128, 1]                 \n",
            " 19                  -1  1    147712  ultralytics.nn.modules.conv.Conv             [128, 128, 3, 2]              \n",
            " 20             [-1, 9]  1         0  ultralytics.nn.modules.conv.Concat           [1]                           \n",
            " 21                  -1  1    493056  ultralytics.nn.modules.block.C2f             [384, 256, 1]                 \n",
            " 22        [15, 18, 21]  1    751702  ultralytics.nn.modules.head.Detect           [2, [64, 128, 256]]           \n",
            "Model summary: 225 layers, 3011238 parameters, 3011222 gradients, 8.2 GFLOPs\n",
            "\n",
            "Transferred 319/355 items from pretrained weights\n",
            "\u001b[34m\u001b[1mTensorBoard: \u001b[0mStart with 'tensorboard --logdir runs/detect/train10', view at http://localhost:6006/\n",
            "Freezing layer 'model.22.dfl.conv.weight'\n",
            "\u001b[34m\u001b[1mAMP: \u001b[0mrunning Automatic Mixed Precision (AMP) checks with YOLOv8n...\n",
            "\u001b[34m\u001b[1mAMP: \u001b[0mchecks passed ✅\n",
            "\u001b[34m\u001b[1mtrain: \u001b[0mScanning /content/drive/MyDrive/weaponsdata/train/labels.cache... 22208 images, 496 backgrounds, 0 corrupt: 100% 22209/22209 [00:00<?, ?it/s]\n",
            "\u001b[34m\u001b[1malbumentations: \u001b[0mBlur(p=0.01, blur_limit=(3, 7)), MedianBlur(p=0.01, blur_limit=(3, 7)), ToGray(p=0.01), CLAHE(p=0.01, clip_limit=(1, 4.0), tile_grid_size=(8, 8))\n",
            "\u001b[34m\u001b[1mval: \u001b[0mScanning /content/drive/MyDrive/weaponsdata/valid/labels.cache... 1665 images, 51 backgrounds, 0 corrupt: 100% 1675/1675 [00:00<?, ?it/s]\n",
            "Plotting labels to runs/detect/train10/labels.jpg... \n",
            "\u001b[34m\u001b[1moptimizer:\u001b[0m 'optimizer=auto' found, ignoring 'lr0=0.01' and 'momentum=0.937' and determining best 'optimizer', 'lr0' and 'momentum' automatically... \n",
            "\u001b[34m\u001b[1moptimizer:\u001b[0m AdamW(lr=0.001667, momentum=0.9) with parameter groups 57 weight(decay=0.0), 64 weight(decay=0.0005), 63 bias(decay=0.0)\n",
            "\u001b[34m\u001b[1mTensorBoard: \u001b[0mmodel graph visualization added ✅\n",
            "Image sizes 640 train, 640 val\n",
            "Using 2 dataloader workers\n",
            "Logging results to \u001b[1mruns/detect/train10\u001b[0m\n",
            "Starting training for 1 epochs...\n",
            "\n",
            "      Epoch    GPU_mem   box_loss   cls_loss   dfl_loss  Instances       Size\n",
            "        1/1      2.55G      1.312       1.75      1.634          6        640: 100% 1389/1389 [10:18<00:00,  2.24it/s]\n",
            "                 Class     Images  Instances      Box(P          R      mAP50  mAP50-95): 100% 53/53 [00:33<00:00,  1.60it/s]\n",
            "                   all       1675       3163      0.532      0.397       0.41      0.144\n",
            "\n",
            "1 epochs completed in 0.183 hours.\n",
            "Optimizer stripped from runs/detect/train10/weights/last.pt, 6.2MB\n",
            "Optimizer stripped from runs/detect/train10/weights/best.pt, 6.2MB\n",
            "\n",
            "Validating runs/detect/train10/weights/best.pt...\n",
            "Ultralytics YOLOv8.1.9 🚀 Python-3.10.12 torch-2.1.0+cu121 CUDA:0 (Tesla V100-SXM2-16GB, 16151MiB)\n",
            "Model summary (fused): 168 layers, 3006038 parameters, 0 gradients, 8.1 GFLOPs\n",
            "                 Class     Images  Instances      Box(P          R      mAP50  mAP50-95): 100% 53/53 [00:28<00:00,  1.89it/s]\n",
            "                   all       1675       3163      0.533      0.398       0.41      0.145\n",
            "                person       1675       1420      0.695      0.482      0.546      0.175\n",
            "                weapon       1675       1743       0.37      0.313      0.274      0.114\n",
            "Speed: 0.2ms preprocess, 1.2ms inference, 0.0ms loss, 3.0ms postprocess per image\n",
            "Results saved to \u001b[1mruns/detect/train10\u001b[0m\n",
            "💡 Learn more at https://docs.ultralytics.com/modes/train\n"
          ]
        }
      ]
    },
    {
      "cell_type": "code",
      "source": [
        "!yolo detect val data='/content/drive/MyDrive/weaponsdata/data.yaml' model='/content/drive/MyDrive/weaponsdata/runs/detect/train10/weights/best.pt'"
      ],
      "metadata": {
        "colab": {
          "base_uri": "https://localhost:8080/"
        },
        "id": "Dw17DtRkRAO5",
        "outputId": "4c538118-9f5e-4853-d913-fb354c6c60c8"
      },
      "execution_count": 9,
      "outputs": [
        {
          "output_type": "stream",
          "name": "stdout",
          "text": [
            "Ultralytics YOLOv8.1.9 🚀 Python-3.10.12 torch-2.1.0+cu121 CUDA:0 (Tesla V100-SXM2-16GB, 16151MiB)\n",
            "Model summary (fused): 168 layers, 3006038 parameters, 0 gradients, 8.1 GFLOPs\n",
            "\u001b[34m\u001b[1mval: \u001b[0mScanning /content/drive/MyDrive/weaponsdata/valid/labels.cache... 1665 images, 51 backgrounds, 0 corrupt: 100% 1675/1675 [00:00<?, ?it/s]\n",
            "                 Class     Images  Instances      Box(P          R      mAP50  mAP50-95): 100% 105/105 [00:41<00:00,  2.54it/s]\n",
            "                   all       1675       3163      0.531      0.397       0.41      0.144\n",
            "                person       1675       1420      0.694      0.482      0.545      0.175\n",
            "                weapon       1675       1743      0.368      0.312      0.274      0.114\n",
            "Speed: 0.4ms preprocess, 2.6ms inference, 0.0ms loss, 2.7ms postprocess per image\n",
            "Results saved to \u001b[1mruns/detect/val\u001b[0m\n",
            "💡 Learn more at https://docs.ultralytics.com/modes/val\n"
          ]
        }
      ]
    },
    {
      "cell_type": "code",
      "source": [
        "!yolo detect val data='/content/drive/MyDrive/weaponsdata/data.yaml' model='/content/drive/MyDrive/weaponsdata/runs/detect/train10/weights/last.pt'"
      ],
      "metadata": {
        "colab": {
          "base_uri": "https://localhost:8080/"
        },
        "id": "9MXRWDdbRASF",
        "outputId": "3c9d0500-787c-4ed2-9e4c-59cc0e043704"
      },
      "execution_count": 10,
      "outputs": [
        {
          "output_type": "stream",
          "name": "stdout",
          "text": [
            "Ultralytics YOLOv8.1.9 🚀 Python-3.10.12 torch-2.1.0+cu121 CUDA:0 (Tesla V100-SXM2-16GB, 16151MiB)\n",
            "Model summary (fused): 168 layers, 3006038 parameters, 0 gradients, 8.1 GFLOPs\n",
            "\u001b[34m\u001b[1mval: \u001b[0mScanning /content/drive/MyDrive/weaponsdata/valid/labels.cache... 1665 images, 51 backgrounds, 0 corrupt: 100% 1675/1675 [00:00<?, ?it/s]\n",
            "                 Class     Images  Instances      Box(P          R      mAP50  mAP50-95): 100% 105/105 [00:49<00:00,  2.12it/s]\n",
            "                   all       1675       3163      0.531      0.397       0.41      0.144\n",
            "                person       1675       1420      0.694      0.482      0.545      0.175\n",
            "                weapon       1675       1743      0.368      0.312      0.274      0.114\n",
            "Speed: 0.6ms preprocess, 3.1ms inference, 0.0ms loss, 3.6ms postprocess per image\n",
            "Results saved to \u001b[1mruns/detect/val2\u001b[0m\n",
            "💡 Learn more at https://docs.ultralytics.com/modes/val\n"
          ]
        }
      ]
    },
    {
      "cell_type": "code",
      "source": [
        "import torch\n",
        "import torchvision\n",
        "from torchvision.models.detection import fasterrcnn_resnet50_fpn\n",
        "from torchvision.transforms import functional as F\n",
        "from PIL import Image\n",
        "import cv2\n",
        "from google.colab.patches import cv2_imshow"
      ],
      "metadata": {
        "colab": {
          "base_uri": "https://localhost:8080/"
        },
        "id": "la2goGVBH3cK",
        "outputId": "32e01463-ef50-4fde-ba68-734c31f51ac7"
      },
      "execution_count": 33,
      "outputs": [
        {
          "output_type": "stream",
          "name": "stdout",
          "text": [
            "WARNING ⚠️ Video stream unresponsive, please check your IP camera connection.\n"
          ]
        }
      ]
    },
    {
      "cell_type": "code",
      "source": [
        "from IPython.display import display, Javascript\n",
        "from google.colab.output import eval_js\n",
        "from base64 import b64decode\n",
        "\n",
        "def take_photo(filename='photo.jpg', quality=0.8):\n",
        "  js = Javascript('''\n",
        "    async function takePhoto(quality) {\n",
        "      const div = document.createElement('div');\n",
        "      const capture = document.createElement('button');\n",
        "      capture.textContent = 'Capture';\n",
        "      div.appendChild(capture);\n",
        "\n",
        "      const video = document.createElement('video');\n",
        "      video.style.display = 'block';\n",
        "      const stream = await navigator.mediaDevices.getUserMedia({video: true});\n",
        "\n",
        "      document.body.appendChild(div);\n",
        "      div.appendChild(video);\n",
        "      video.srcObject = stream;\n",
        "      await video.play();\n",
        "\n",
        "      // Resize the output to fit the video element.\n",
        "      google.colab.output.setIframeHeight(document.documentElement.scrollHeight, true);\n",
        "\n",
        "      // Wait for Capture to be clicked.\n",
        "      await new Promise((resolve) => capture.onclick = resolve);\n",
        "\n",
        "      const canvas = document.createElement('canvas');\n",
        "      canvas.width = video.videoWidth;\n",
        "      canvas.height = video.videoHeight;\n",
        "      canvas.getContext('2d').drawImage(video, 0, 0);\n",
        "      stream.getVideoTracks()[0].stop();\n",
        "      div.remove();\n",
        "      return canvas.toDataURL('image/jpeg', quality);\n",
        "    }\n",
        "  ''')\n",
        "  display(js)\n",
        "  data = eval_js('takePhoto({})'.format(quality))\n",
        "  binary = b64decode(data.split(',')[1])\n",
        "  with open(filename, 'wb') as f:\n",
        "    f.write(binary)\n",
        "  return filename"
      ],
      "metadata": {
        "colab": {
          "base_uri": "https://localhost:8080/"
        },
        "id": "CKscCcXqIBPj",
        "outputId": "5e5cc967-4a14-4a1b-85ca-8887ba41669b"
      },
      "execution_count": 34,
      "outputs": [
        {
          "output_type": "stream",
          "name": "stdout",
          "text": [
            "WARNING ⚠️ Video stream unresponsive, please check your IP camera connection.\n",
            "WARNING ⚠️ Video stream unresponsive, please check your IP camera connection.\n",
            "WARNING ⚠️ Video stream unresponsive, please check your IP camera connection.\n"
          ]
        }
      ]
    },
    {
      "cell_type": "code",
      "source": [
        "image_path = take_photo()"
      ],
      "metadata": {
        "colab": {
          "base_uri": "https://localhost:8080/",
          "height": 1000
        },
        "id": "LyfZm7jvICyo",
        "outputId": "56719963-b002-4374-bb48-2f46d8b7eff3"
      },
      "execution_count": 40,
      "outputs": [
        {
          "output_type": "display_data",
          "data": {
            "text/plain": [
              "<IPython.core.display.Javascript object>"
            ],
            "application/javascript": [
              "\n",
              "    async function takePhoto(quality) {\n",
              "      const div = document.createElement('div');\n",
              "      const capture = document.createElement('button');\n",
              "      capture.textContent = 'Capture';\n",
              "      div.appendChild(capture);\n",
              "\n",
              "      const video = document.createElement('video');\n",
              "      video.style.display = 'block';\n",
              "      const stream = await navigator.mediaDevices.getUserMedia({video: true});\n",
              "\n",
              "      document.body.appendChild(div);\n",
              "      div.appendChild(video);\n",
              "      video.srcObject = stream;\n",
              "      await video.play();\n",
              "\n",
              "      // Resize the output to fit the video element.\n",
              "      google.colab.output.setIframeHeight(document.documentElement.scrollHeight, true);\n",
              "\n",
              "      // Wait for Capture to be clicked.\n",
              "      await new Promise((resolve) => capture.onclick = resolve);\n",
              "\n",
              "      const canvas = document.createElement('canvas');\n",
              "      canvas.width = video.videoWidth;\n",
              "      canvas.height = video.videoHeight;\n",
              "      canvas.getContext('2d').drawImage(video, 0, 0);\n",
              "      stream.getVideoTracks()[0].stop();\n",
              "      div.remove();\n",
              "      return canvas.toDataURL('image/jpeg', quality);\n",
              "    }\n",
              "  "
            ]
          },
          "metadata": {}
        },
        {
          "output_type": "stream",
          "name": "stdout",
          "text": [
            "WARNING ⚠️ Video stream unresponsive, please check your IP camera connection.\n",
            "WARNING ⚠️ Video stream unresponsive, please check your IP camera connection.\n",
            "WARNING ⚠️ Video stream unresponsive, please check your IP camera connection.\n",
            "WARNING ⚠️ Video stream unresponsive, please check your IP camera connection.\n",
            "WARNING ⚠️ Video stream unresponsive, please check your IP camera connection.\n",
            "WARNING ⚠️ Video stream unresponsive, please check your IP camera connection.\n",
            "WARNING ⚠️ Video stream unresponsive, please check your IP camera connection.\n",
            "WARNING ⚠️ Video stream unresponsive, please check your IP camera connection.\n",
            "WARNING ⚠️ Video stream unresponsive, please check your IP camera connection.\n",
            "WARNING ⚠️ Video stream unresponsive, please check your IP camera connection.\n",
            "WARNING ⚠️ Video stream unresponsive, please check your IP camera connection.\n",
            "WARNING ⚠️ Video stream unresponsive, please check your IP camera connection.\n",
            "WARNING ⚠️ Video stream unresponsive, please check your IP camera connection.\n",
            "WARNING ⚠️ Video stream unresponsive, please check your IP camera connection.\n",
            "WARNING ⚠️ Video stream unresponsive, please check your IP camera connection.\n",
            "WARNING ⚠️ Video stream unresponsive, please check your IP camera connection.\n",
            "WARNING ⚠️ Video stream unresponsive, please check your IP camera connection.\n",
            "WARNING ⚠️ Video stream unresponsive, please check your IP camera connection.\n",
            "WARNING ⚠️ Video stream unresponsive, please check your IP camera connection.\n",
            "WARNING ⚠️ Video stream unresponsive, please check your IP camera connection.\n",
            "WARNING ⚠️ Video stream unresponsive, please check your IP camera connection.\n",
            "WARNING ⚠️ Video stream unresponsive, please check your IP camera connection.\n",
            "WARNING ⚠️ Video stream unresponsive, please check your IP camera connection.\n",
            "WARNING ⚠️ Video stream unresponsive, please check your IP camera connection.\n",
            "WARNING ⚠️ Video stream unresponsive, please check your IP camera connection.\n",
            "WARNING ⚠️ Video stream unresponsive, please check your IP camera connection.\n",
            "WARNING ⚠️ Video stream unresponsive, please check your IP camera connection.\n",
            "WARNING ⚠️ Video stream unresponsive, please check your IP camera connection.\n",
            "WARNING ⚠️ Video stream unresponsive, please check your IP camera connection.\n",
            "WARNING ⚠️ Video stream unresponsive, please check your IP camera connection.\n",
            "WARNING ⚠️ Video stream unresponsive, please check your IP camera connection.\n",
            "WARNING ⚠️ Video stream unresponsive, please check your IP camera connection.\n",
            "WARNING ⚠️ Video stream unresponsive, please check your IP camera connection.\n",
            "WARNING ⚠️ Video stream unresponsive, please check your IP camera connection.\n",
            "WARNING ⚠️ Video stream unresponsive, please check your IP camera connection.\n",
            "WARNING ⚠️ Video stream unresponsive, please check your IP camera connection.\n",
            "WARNING ⚠️ Video stream unresponsive, please check your IP camera connection.\n",
            "WARNING ⚠️ Video stream unresponsive, please check your IP camera connection.\n",
            "WARNING ⚠️ Video stream unresponsive, please check your IP camera connection.\n",
            "WARNING ⚠️ Video stream unresponsive, please check your IP camera connection.\n",
            "WARNING ⚠️ Video stream unresponsive, please check your IP camera connection.\n",
            "WARNING ⚠️ Video stream unresponsive, please check your IP camera connection.\n",
            "WARNING ⚠️ Video stream unresponsive, please check your IP camera connection.\n",
            "WARNING ⚠️ Video stream unresponsive, please check your IP camera connection.\n",
            "WARNING ⚠️ Video stream unresponsive, please check your IP camera connection.\n",
            "WARNING ⚠️ Video stream unresponsive, please check your IP camera connection.\n",
            "WARNING ⚠️ Video stream unresponsive, please check your IP camera connection.\n",
            "WARNING ⚠️ Video stream unresponsive, please check your IP camera connection.\n",
            "WARNING ⚠️ Video stream unresponsive, please check your IP camera connection.\n",
            "WARNING ⚠️ Video stream unresponsive, please check your IP camera connection.\n",
            "WARNING ⚠️ Video stream unresponsive, please check your IP camera connection.\n",
            "WARNING ⚠️ Video stream unresponsive, please check your IP camera connection.\n",
            "WARNING ⚠️ Video stream unresponsive, please check your IP camera connection.\n",
            "WARNING ⚠️ Video stream unresponsive, please check your IP camera connection.\n",
            "WARNING ⚠️ Video stream unresponsive, please check your IP camera connection.\n",
            "WARNING ⚠️ Video stream unresponsive, please check your IP camera connection.\n",
            "WARNING ⚠️ Video stream unresponsive, please check your IP camera connection.\n",
            "WARNING ⚠️ Video stream unresponsive, please check your IP camera connection.\n",
            "WARNING ⚠️ Video stream unresponsive, please check your IP camera connection.\n",
            "WARNING ⚠️ Video stream unresponsive, please check your IP camera connection.\n",
            "WARNING ⚠️ Video stream unresponsive, please check your IP camera connection.\n",
            "WARNING ⚠️ Video stream unresponsive, please check your IP camera connection.\n",
            "WARNING ⚠️ Video stream unresponsive, please check your IP camera connection.\n",
            "WARNING ⚠️ Video stream unresponsive, please check your IP camera connection.\n",
            "WARNING ⚠️ Video stream unresponsive, please check your IP camera connection.\n",
            "WARNING ⚠️ Video stream unresponsive, please check your IP camera connection.\n",
            "WARNING ⚠️ Video stream unresponsive, please check your IP camera connection.\n",
            "WARNING ⚠️ Video stream unresponsive, please check your IP camera connection.\n",
            "WARNING ⚠️ Video stream unresponsive, please check your IP camera connection.\n",
            "WARNING ⚠️ Video stream unresponsive, please check your IP camera connection.\n",
            "WARNING ⚠️ Video stream unresponsive, please check your IP camera connection.\n",
            "WARNING ⚠️ Video stream unresponsive, please check your IP camera connection.\n",
            "WARNING ⚠️ Video stream unresponsive, please check your IP camera connection.\n",
            "WARNING ⚠️ Video stream unresponsive, please check your IP camera connection.\n",
            "WARNING ⚠️ Video stream unresponsive, please check your IP camera connection.\n",
            "WARNING ⚠️ Video stream unresponsive, please check your IP camera connection.\n",
            "WARNING ⚠️ Video stream unresponsive, please check your IP camera connection.\n",
            "WARNING ⚠️ Video stream unresponsive, please check your IP camera connection.\n",
            "WARNING ⚠️ Video stream unresponsive, please check your IP camera connection.\n",
            "WARNING ⚠️ Video stream unresponsive, please check your IP camera connection.\n",
            "WARNING ⚠️ Video stream unresponsive, please check your IP camera connection.\n",
            "WARNING ⚠️ Video stream unresponsive, please check your IP camera connection.\n",
            "WARNING ⚠️ Video stream unresponsive, please check your IP camera connection.\n",
            "WARNING ⚠️ Video stream unresponsive, please check your IP camera connection.\n",
            "WARNING ⚠️ Video stream unresponsive, please check your IP camera connection.\n",
            "WARNING ⚠️ Video stream unresponsive, please check your IP camera connection.\n",
            "WARNING ⚠️ Video stream unresponsive, please check your IP camera connection.\n",
            "WARNING ⚠️ Video stream unresponsive, please check your IP camera connection.\n",
            "WARNING ⚠️ Video stream unresponsive, please check your IP camera connection.\n",
            "WARNING ⚠️ Video stream unresponsive, please check your IP camera connection.\n",
            "WARNING ⚠️ Video stream unresponsive, please check your IP camera connection.\n",
            "WARNING ⚠️ Video stream unresponsive, please check your IP camera connection.\n",
            "WARNING ⚠️ Video stream unresponsive, please check your IP camera connection.\n",
            "WARNING ⚠️ Video stream unresponsive, please check your IP camera connection.\n",
            "WARNING ⚠️ Video stream unresponsive, please check your IP camera connection.\n",
            "WARNING ⚠️ Video stream unresponsive, please check your IP camera connection.\n",
            "WARNING ⚠️ Video stream unresponsive, please check your IP camera connection.\n",
            "WARNING ⚠️ Video stream unresponsive, please check your IP camera connection.\n",
            "WARNING ⚠️ Video stream unresponsive, please check your IP camera connection.\n",
            "WARNING ⚠️ Video stream unresponsive, please check your IP camera connection.\n",
            "WARNING ⚠️ Video stream unresponsive, please check your IP camera connection.\n",
            "WARNING ⚠️ Video stream unresponsive, please check your IP camera connection.\n",
            "WARNING ⚠️ Video stream unresponsive, please check your IP camera connection.\n",
            "WARNING ⚠️ Video stream unresponsive, please check your IP camera connection.\n",
            "WARNING ⚠️ Video stream unresponsive, please check your IP camera connection.\n",
            "WARNING ⚠️ Video stream unresponsive, please check your IP camera connection.\n",
            "WARNING ⚠️ Video stream unresponsive, please check your IP camera connection.\n",
            "WARNING ⚠️ Video stream unresponsive, please check your IP camera connection.\n",
            "WARNING ⚠️ Video stream unresponsive, please check your IP camera connection.\n",
            "WARNING ⚠️ Video stream unresponsive, please check your IP camera connection.\n",
            "WARNING ⚠️ Video stream unresponsive, please check your IP camera connection.\n",
            "WARNING ⚠️ Video stream unresponsive, please check your IP camera connection.\n",
            "WARNING ⚠️ Video stream unresponsive, please check your IP camera connection.\n",
            "WARNING ⚠️ Video stream unresponsive, please check your IP camera connection.\n",
            "WARNING ⚠️ Video stream unresponsive, please check your IP camera connection.\n",
            "WARNING ⚠️ Video stream unresponsive, please check your IP camera connection.\n",
            "WARNING ⚠️ Video stream unresponsive, please check your IP camera connection.\n",
            "WARNING ⚠️ Video stream unresponsive, please check your IP camera connection.\n",
            "WARNING ⚠️ Video stream unresponsive, please check your IP camera connection.\n",
            "WARNING ⚠️ Video stream unresponsive, please check your IP camera connection.\n",
            "WARNING ⚠️ Video stream unresponsive, please check your IP camera connection.\n",
            "WARNING ⚠️ Video stream unresponsive, please check your IP camera connection.\n",
            "WARNING ⚠️ Video stream unresponsive, please check your IP camera connection.\n",
            "WARNING ⚠️ Video stream unresponsive, please check your IP camera connection.\n",
            "WARNING ⚠️ Video stream unresponsive, please check your IP camera connection.\n",
            "WARNING ⚠️ Video stream unresponsive, please check your IP camera connection.\n",
            "WARNING ⚠️ Video stream unresponsive, please check your IP camera connection.\n",
            "WARNING ⚠️ Video stream unresponsive, please check your IP camera connection.\n",
            "WARNING ⚠️ Video stream unresponsive, please check your IP camera connection.\n",
            "WARNING ⚠️ Video stream unresponsive, please check your IP camera connection.\n",
            "WARNING ⚠️ Video stream unresponsive, please check your IP camera connection.\n",
            "WARNING ⚠️ Video stream unresponsive, please check your IP camera connection.\n",
            "WARNING ⚠️ Video stream unresponsive, please check your IP camera connection.\n",
            "WARNING ⚠️ Video stream unresponsive, please check your IP camera connection.\n",
            "WARNING ⚠️ Video stream unresponsive, please check your IP camera connection.\n",
            "WARNING ⚠️ Video stream unresponsive, please check your IP camera connection.\n",
            "WARNING ⚠️ Video stream unresponsive, please check your IP camera connection.\n",
            "WARNING ⚠️ Video stream unresponsive, please check your IP camera connection.\n",
            "WARNING ⚠️ Video stream unresponsive, please check your IP camera connection.\n",
            "WARNING ⚠️ Video stream unresponsive, please check your IP camera connection.\n",
            "WARNING ⚠️ Video stream unresponsive, please check your IP camera connection.\n",
            "WARNING ⚠️ Video stream unresponsive, please check your IP camera connection.\n",
            "WARNING ⚠️ Video stream unresponsive, please check your IP camera connection.\n",
            "WARNING ⚠️ Video stream unresponsive, please check your IP camera connection.\n",
            "WARNING ⚠️ Video stream unresponsive, please check your IP camera connection.\n",
            "WARNING ⚠️ Video stream unresponsive, please check your IP camera connection.\n",
            "WARNING ⚠️ Video stream unresponsive, please check your IP camera connection.\n",
            "WARNING ⚠️ Video stream unresponsive, please check your IP camera connection.\n",
            "WARNING ⚠️ Video stream unresponsive, please check your IP camera connection.\n",
            "WARNING ⚠️ Video stream unresponsive, please check your IP camera connection.\n",
            "WARNING ⚠️ Video stream unresponsive, please check your IP camera connection.\n",
            "WARNING ⚠️ Video stream unresponsive, please check your IP camera connection.\n",
            "WARNING ⚠️ Video stream unresponsive, please check your IP camera connection.\n",
            "WARNING ⚠️ Video stream unresponsive, please check your IP camera connection.\n",
            "WARNING ⚠️ Video stream unresponsive, please check your IP camera connection.\n",
            "WARNING ⚠️ Video stream unresponsive, please check your IP camera connection.\n",
            "WARNING ⚠️ Video stream unresponsive, please check your IP camera connection.\n",
            "WARNING ⚠️ Video stream unresponsive, please check your IP camera connection.\n",
            "WARNING ⚠️ Video stream unresponsive, please check your IP camera connection.\n",
            "WARNING ⚠️ Video stream unresponsive, please check your IP camera connection.\n",
            "WARNING ⚠️ Video stream unresponsive, please check your IP camera connection.\n",
            "WARNING ⚠️ Video stream unresponsive, please check your IP camera connection.\n",
            "WARNING ⚠️ Video stream unresponsive, please check your IP camera connection.\n",
            "WARNING ⚠️ Video stream unresponsive, please check your IP camera connection.\n",
            "WARNING ⚠️ Video stream unresponsive, please check your IP camera connection.\n",
            "WARNING ⚠️ Video stream unresponsive, please check your IP camera connection.\n",
            "WARNING ⚠️ Video stream unresponsive, please check your IP camera connection.\n",
            "WARNING ⚠️ Video stream unresponsive, please check your IP camera connection.\n",
            "WARNING ⚠️ Video stream unresponsive, please check your IP camera connection.\n",
            "WARNING ⚠️ Video stream unresponsive, please check your IP camera connection.\n"
          ]
        }
      ]
    },
    {
      "cell_type": "code",
      "source": [
        "model = YOLO('/content/drive/MyDrive/weaponsdata/runs/detect/train10/weights/best.pt')\n",
        "image = Image.open(image_path)\n",
        "\n",
        "results = model(image)  # list of Results objects"
      ],
      "metadata": {
        "colab": {
          "base_uri": "https://localhost:8080/"
        },
        "id": "HWNdR3Txxnsi",
        "outputId": "265e0d7a-689c-45b6-ee11-13417023ce00"
      },
      "execution_count": 41,
      "outputs": [
        {
          "output_type": "stream",
          "name": "stdout",
          "text": [
            "WARNING ⚠️ Video stream unresponsive, please check your IP camera connection.\n",
            "WARNING ⚠️ Video stream unresponsive, please check your IP camera connection.\n",
            "WARNING ⚠️ Video stream unresponsive, please check your IP camera connection.\n",
            "WARNING ⚠️ Video stream unresponsive, please check your IP camera connection.\n",
            "WARNING ⚠️ Video stream unresponsive, please check your IP camera connection.\n",
            "WARNING ⚠️ Video stream unresponsive, please check your IP camera connection.\n",
            "WARNING ⚠️ Video stream unresponsive, please check your IP camera connection.\n",
            "WARNING ⚠️ Video stream unresponsive, please check your IP camera connection.\n",
            "WARNING ⚠️ Video stream unresponsive, please check your IP camera connection.\n",
            "\n",
            "WARNING ⚠️ Video stream unresponsive, please check your IP camera connection.\n",
            "WARNING ⚠️ Video stream unresponsive, please check your IP camera connection.\n",
            "WARNING ⚠️ Video stream unresponsive, please check your IP camera connection.\n",
            "0: 480x640 3 persons, 25.1ms\n",
            "Speed: 1.6ms preprocess, 25.1ms inference, 1.8ms postprocess per image at shape (1, 3, 480, 640)\n",
            "WARNING ⚠️ Video stream unresponsive, please check your IP camera connection.\n"
          ]
        }
      ]
    },
    {
      "cell_type": "code",
      "source": [
        "model.predict((image), save=True, imgsz=320, conf=0.5)"
      ],
      "metadata": {
        "colab": {
          "base_uri": "https://localhost:8080/"
        },
        "id": "74SUg_hWxn8b",
        "outputId": "cb66414e-f97d-4f83-a686-8c415b56ec85"
      },
      "execution_count": 42,
      "outputs": [
        {
          "output_type": "stream",
          "name": "stdout",
          "text": [
            "\n",
            "WARNING ⚠️ Video stream unresponsive, please check your IP camera connection.\n",
            "WARNING ⚠️ Video stream unresponsive, please check your IP camera connection.\n",
            "0: 256x320 1 person, 70.7ms\n",
            "Speed: 1.2ms preprocess, 70.7ms inference, 6.1ms postprocess per image at shape (1, 3, 256, 320)\n",
            "Results saved to \u001b[1mruns/detect/predict2\u001b[0m\n"
          ]
        },
        {
          "output_type": "execute_result",
          "data": {
            "text/plain": [
              "[ultralytics.engine.results.Results object with attributes:\n",
              " \n",
              " boxes: ultralytics.engine.results.Boxes object\n",
              " keypoints: None\n",
              " masks: None\n",
              " names: {0: 'person', 1: 'weapon'}\n",
              " obb: None\n",
              " orig_img: array([[[120, 142, 160],\n",
              "         [121, 143, 161],\n",
              "         [122, 144, 162],\n",
              "         ...,\n",
              "         [133, 145, 151],\n",
              "         [132, 144, 150],\n",
              "         [131, 143, 149]],\n",
              " \n",
              "        [[122, 144, 162],\n",
              "         [123, 145, 163],\n",
              "         [124, 146, 164],\n",
              "         ...,\n",
              "         [134, 146, 152],\n",
              "         [132, 144, 150],\n",
              "         [131, 143, 149]],\n",
              " \n",
              "        [[122, 144, 162],\n",
              "         [123, 145, 163],\n",
              "         [126, 146, 164],\n",
              "         ...,\n",
              "         [135, 147, 153],\n",
              "         [133, 145, 149],\n",
              "         [132, 144, 148]],\n",
              " \n",
              "        ...,\n",
              " \n",
              "        [[ 91,  97, 102],\n",
              "         [ 90,  96, 101],\n",
              "         [ 90,  96, 101],\n",
              "         ...,\n",
              "         [ 35,  27,  28],\n",
              "         [ 36,  28,  29],\n",
              "         [ 37,  29,  30]],\n",
              " \n",
              "        [[ 93,  99, 104],\n",
              "         [ 92,  98, 103],\n",
              "         [ 91,  97, 102],\n",
              "         ...,\n",
              "         [ 35,  27,  28],\n",
              "         [ 36,  28,  29],\n",
              "         [ 36,  28,  29]],\n",
              " \n",
              "        [[ 95, 101, 106],\n",
              "         [ 94, 100, 105],\n",
              "         [ 92,  98, 103],\n",
              "         ...,\n",
              "         [ 34,  26,  27],\n",
              "         [ 35,  27,  28],\n",
              "         [ 34,  26,  27]]], dtype=uint8)\n",
              " orig_shape: (480, 640)\n",
              " path: 'photo.jpg'\n",
              " probs: None\n",
              " save_dir: 'runs/detect/predict2'\n",
              " speed: {'preprocess': 1.157522201538086, 'inference': 70.709228515625, 'postprocess': 6.094455718994141}]"
            ]
          },
          "metadata": {},
          "execution_count": 42
        },
        {
          "output_type": "stream",
          "name": "stdout",
          "text": [
            "WARNING ⚠️ Video stream unresponsive, please check your IP camera connection.\n",
            "WARNING ⚠️ Video stream unresponsive, please check your IP camera connection.\n",
            "WARNING ⚠️ Video stream unresponsive, please check your IP camera connection.\n",
            "WARNING ⚠️ Video stream unresponsive, please check your IP camera connection.\n",
            "WARNING ⚠️ Video stream unresponsive, please check your IP camera connection.\n",
            "WARNING ⚠️ Video stream unresponsive, please check your IP camera connection.\n",
            "WARNING ⚠️ Video stream unresponsive, please check your IP camera connection.\n"
          ]
        }
      ]
    }
  ]
}